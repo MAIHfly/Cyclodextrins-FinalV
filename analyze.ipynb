{
 "cells": [
  {
   "cell_type": "code",
   "execution_count": 1,
   "metadata": {},
   "outputs": [],
   "source": [
    "import autode as ade\n",
    "import cctk"
   ]
  },
  {
   "cell_type": "code",
   "execution_count": 2,
   "metadata": {},
   "outputs": [],
   "source": [
    "aBiCyDNH2_out = \"/Users/passos/Documents/GitHub/Cyclodextrins-Broken/aBiCyDNH2_orca.out\"\n",
    "aBiCyDNH_out = \"/Users/passos/Documents/GitHub/Cyclodextrins-Broken/aBiCyDNH_orca.out\"\n",
    "p_fluorophenol_out = \"/Users/passos/Documents/GitHub/Cyclodextrins-Broken/p-fluorophenol_orca.out\"\n",
    "p_fluorophenolate_out = \"/Users/passos/Documents/GitHub/Cyclodextrins-Broken/p-fluorophenolate_orca.out\"\n",
    "\n",
    "aBiCyDNH2_hess = \"/Users/passos/Documents/GitHub/Cyclodextrins-Broken/aBiCyDNH2_orca.hess\"\n",
    "aBiCyDNH_hess = \"/Users/passos/Documents/GitHub/Cyclodextrins-Broken/aBiCyDNH_orca.hess\"\n",
    "p_fluorophenol_hess = \"/Users/passos/Documents/GitHub/Cyclodextrins-Broken/p-fluorophenol_orca.hess\"\n",
    "p_fluorophenolate_hess = \"/Users/passos/Documents/GitHub/Cyclodextrins-Broken/p-fluorophenolate_orca.hess\"\n",
    "\n",
    "aBiCyDNH2_xyz = \"/Users/passos/Documents/GitHub/Cyclodextrins-Broken/aBiCyDNH2_orca.xyz\"\n",
    "aBiCyDNH_xyz = \"/Users/passos/Documents/GitHub/Cyclodextrins-Broken/aBiCyDNH_orca.xyz\"\n",
    "p_fluorophenol_xyz = \"/Users/passos/Documents/GitHub/Cyclodextrins-Broken/p-fluorophenol_orca.xyz\"\n",
    "p_fluorophenolate_xyz = \"/Users/passos/Documents/GitHub/Cyclodextrins-Broken/p-fluorophenolate_orca.xyz\""
   ]
  },
  {
   "cell_type": "code",
   "execution_count": 3,
   "metadata": {},
   "outputs": [],
   "source": [
    "aBiCyDNH2 = ade.Molecule(aBiCyDNH2_xyz, charge = +1, multiplicity = 0)\n",
    "aBiCyDNH = ade.Molecule(aBiCyDNH_xyz, charge = 0, multiplicity = 0)\n",
    "p_fluorophenol = ade.Molecule(p_fluorophenol_xyz, charge = 0, multiplicity = 0)\n",
    "p_fluorophenolate = ade.Molecule(p_fluorophenolate_xyz, charge = -1, multiplicity = 0)"
   ]
  },
  {
   "cell_type": "code",
   "execution_count": 4,
   "metadata": {},
   "outputs": [],
   "source": [
    "aBiCyDNH2 = ade.Molecule(aBiCyDNH2_out, charge = +1, multiplicity = 0)\n",
    "\n",
    "\n",
    "# aBiCyDNH2.\n",
    "\n",
    "\n",
    "\n",
    "# print(f'H = {aBiCyDNH2.enthalpy:.6f} Ha\\n'\n",
    "#       f'G = {aBiCyDNH2.free_energy:.6f} Ha')"
   ]
  },
  {
   "cell_type": "code",
   "execution_count": 5,
   "metadata": {},
   "outputs": [],
   "source": [
    "aBiCyDNH_E = -3940.012342448308\n",
    "aBiCyDNH_H = -3938.815992536983\n",
    "aBiCyDNH_G = -3938.9525078104775"
   ]
  },
  {
   "cell_type": "code",
   "execution_count": 6,
   "metadata": {},
   "outputs": [],
   "source": [
    "aBiCyDNH2_E = -3940.415247905232\n",
    "aBiCyDNH2_H = -3939.205009832167\n",
    "aBiCyDNH2_G = -3939.3438488038587"
   ]
  },
  {
   "cell_type": "code",
   "execution_count": 7,
   "metadata": {},
   "outputs": [],
   "source": [
    "p_fluorophenol_E = -405.972515065549\n",
    "p_fluorophenol_H = -405.868797349536\n",
    "p_fluorophenol_G = -405.9028258678025\n",
    "\n",
    "p_fluorophenolate_E = -405.399258775121\n",
    "p_fluorophenolate_H = -405.30982098636696\n",
    "p_fluorophenolate_G = -405.3430455573136"
   ]
  },
  {
   "cell_type": "code",
   "execution_count": 8,
   "metadata": {},
   "outputs": [
    {
     "name": "stdout",
     "output_type": "stream",
     "text": [
      "0.17035083350401692\n",
      "0.16995906798456417\n",
      "0.16843931710718607\n"
     ]
    }
   ],
   "source": [
    "delta_E_Ha = ((p_fluorophenolate_E + aBiCyDNH2_E)) - ((p_fluorophenol_E + aBiCyDNH_E))\n",
    "delta_H_Ha = ((p_fluorophenolate_H + aBiCyDNH2_H)) - ((p_fluorophenol_H + aBiCyDNH_H))\n",
    "delta_G_Ha = ((p_fluorophenolate_G + aBiCyDNH2_G)) - ((p_fluorophenol_G + aBiCyDNH_G))\n",
    "\n",
    "print(delta_E_Ha)\n",
    "print(delta_H_Ha)\n",
    "print(delta_G_Ha)"
   ]
  },
  {
   "cell_type": "code",
   "execution_count": 9,
   "metadata": {},
   "outputs": [
    {
     "name": "stdout",
     "output_type": "stream",
     "text": [
      "106.8967663566889\n",
      "106.65092977145987\n",
      "105.69727165827177\n"
     ]
    }
   ],
   "source": [
    "delta_E_kcal = delta_E_Ha * 627.5095\n",
    "print(delta_E_kcal)\n",
    "delta_H_kcal = delta_H_Ha * 627.5095\n",
    "print(delta_H_kcal)\n",
    "delta_G_kcal = delta_G_Ha * 627.5095\n",
    "print(delta_G_kcal)\n"
   ]
  },
  {
   "cell_type": "code",
   "execution_count": 124,
   "metadata": {},
   "outputs": [
    {
     "name": "stderr",
     "output_type": "stream",
     "text": [
      "/tmp/ipykernel_11792/503069290.py:1: DeprecationWarning: XYZFile attribute ``molecule`` will be removed in upcoming releases of cctk. Use ``ensemble`` attribute instead!\n",
      "  molecule_to_be_functionalized = cctk.XYZFile.read_file('aBiCyDNH.xyz').molecule\n"
     ]
    },
    {
     "data": {
      "text/plain": [
       "Molecule (137 atoms)"
      ]
     },
     "execution_count": 124,
     "metadata": {},
     "output_type": "execute_result"
    }
   ],
   "source": [
    "molecule_to_be_functionalized = cctk.XYZFile.read_file('aBiCyDNH.xyz').molecule\n",
    "molecule_to_be_functionalized.assign_connectivity()\n"
   ]
  },
  {
   "cell_type": "code",
   "execution_count": 125,
   "metadata": {},
   "outputs": [
    {
     "name": "stdout",
     "output_type": "stream",
     "text": [
      "[(1, 2), (1, 10), (1, 11), (1, 26), (2, 3), (2, 7), (2, 12), (3, 4), (3, 8), (3, 13), (4, 5), (4, 9), (4, 14), (5, 6), (5, 10), (5, 15), (6, 120), (6, 125), (6, 126), (7, 16), (8, 17), (9, 97), (18, 19), (18, 27), (18, 29), (18, 47), (19, 20), (19, 24), (19, 30), (20, 21), (20, 25), (20, 31), (21, 22), (21, 26), (21, 32), (22, 23), (22, 27), (22, 33), (23, 28), (23, 34), (23, 35), (24, 36), (25, 37), (28, 38), (39, 40), (39, 48), (39, 50), (39, 67), (40, 41), (40, 45), (40, 51), (41, 42), (41, 46), (41, 52), (42, 43), (42, 47), (42, 53), (43, 44), (43, 48), (43, 54), (44, 49), (44, 55), (44, 56), (45, 57), (46, 127), (49, 58), (59, 60), (59, 68), (59, 69), (59, 84), (60, 61), (60, 65), (60, 70), (61, 62), (61, 66), (61, 71), (62, 63), (62, 67), (62, 72), (63, 64), (63, 68), (63, 73), (64, 121), (64, 123), (64, 124), (65, 74), (66, 75), (76, 77), (76, 85), (76, 87), (76, 105), (77, 78), (77, 82), (77, 88), (78, 79), (78, 83), (78, 89), (79, 80), (79, 84), (79, 90), (80, 81), (80, 85), (80, 91), (81, 86), (81, 92), (81, 93), (82, 94), (83, 95), (86, 96), (97, 98), (97, 106), (97, 108), (98, 99), (98, 103), (98, 109), (99, 100), (99, 104), (99, 110), (100, 101), (100, 105), (100, 111), (101, 102), (101, 106), (101, 112), (102, 107), (102, 113), (102, 114), (103, 115), (104, 116), (107, 117), (118, 119), (118, 120), (118, 129), (119, 121), (119, 128), (120, 122), (121, 122), (122, 130), (128, 132), (128, 135), (129, 133), (129, 137), (130, 131), (132, 133), (132, 134), (133, 136)]\n"
     ]
    }
   ],
   "source": [
    "bonds_on_molecule_to_be_functionalized = print(molecule_to_be_functionalized.bonds.edges())"
   ]
  },
  {
   "cell_type": "code",
   "execution_count": 126,
   "metadata": {},
   "outputs": [
    {
     "name": "stdout",
     "output_type": "stream",
     "text": [
      "[7, 8, 9, 10, 24, 25, 26, 27, 28, 45, 46, 47, 48, 49, 65, 66, 67, 68, 82, 83, 84, 85, 86, 103, 104, 105, 106, 107]\n",
      "[11, 12, 13, 14, 15, 16, 17, 29, 30, 31, 32, 33, 34, 35, 36, 37, 38, 50, 51, 52, 53, 54, 55, 56, 57, 58, 69, 70, 71, 72, 73, 74, 75, 87, 88, 89, 90, 91, 92, 93, 94, 95, 96, 108, 109, 110, 111, 112, 113, 114, 115, 116, 117, 123, 124, 125, 126, 127, 131, 134, 135, 136, 137]\n"
     ]
    }
   ],
   "source": [
    "# get all atom numbers for a given element\n",
    "oxygen_numbers_on_molecule_to_be_functionalized = molecule_to_be_functionalized.get_atoms_by_symbol(\"O\")\n",
    "print(oxygen_numbers_on_molecule_to_be_functionalized)\n",
    "hydrogen_numbers_on_molecule_to_be_functionalized = molecule_to_be_functionalized.get_atoms_by_symbol(\"H\")\n",
    "print(hydrogen_numbers_on_molecule_to_be_functionalized)\n"
   ]
  },
  {
   "cell_type": "code",
   "execution_count": 127,
   "metadata": {},
   "outputs": [
    {
     "name": "stdout",
     "output_type": "stream",
     "text": [
      "[2, 16]\n",
      "[3, 17]\n",
      "[4, 97]\n",
      "[1, 5]\n",
      "[19, 36]\n",
      "[20, 37]\n",
      "[1, 21]\n",
      "[18, 22]\n",
      "[23, 38]\n",
      "[40, 57]\n",
      "[41, 127]\n",
      "[18, 42]\n",
      "[39, 43]\n",
      "[44, 58]\n",
      "[60, 74]\n",
      "[61, 75]\n",
      "[39, 62]\n",
      "[59, 63]\n",
      "[77, 94]\n",
      "[78, 95]\n",
      "[59, 79]\n",
      "[76, 80]\n",
      "[81, 96]\n",
      "[98, 115]\n",
      "[99, 116]\n",
      "[76, 100]\n",
      "[97, 101]\n",
      "[102, 117]\n"
     ]
    }
   ],
   "source": [
    "oxygen_numbers_on_molecule_to_be_functionalized_list = []\n",
    "neighbors_oxygen_numbers_on_molecule_to_be_functionalized_list = []\n",
    "for i in oxygen_numbers_on_molecule_to_be_functionalized:\n",
    "    oxygen_numbers_on_molecule_to_be_functionalized_list.append(i)\n",
    "    neighbors_oxygen_numbers_on_molecule_to_be_functionalized_list.append(list(molecule_to_be_functionalized.bonds.neighbors(i)))\n",
    "    print(list(molecule_to_be_functionalized.bonds.neighbors(i)))\n"
   ]
  },
  {
   "cell_type": "code",
   "execution_count": 128,
   "metadata": {},
   "outputs": [
    {
     "name": "stdout",
     "output_type": "stream",
     "text": [
      "[1]\n",
      "[2]\n",
      "[3]\n",
      "[4]\n",
      "[5]\n",
      "[7]\n",
      "[8]\n",
      "[18]\n",
      "[19]\n",
      "[20]\n",
      "[21]\n",
      "[22]\n",
      "[23]\n",
      "[23]\n",
      "[24]\n",
      "[25]\n",
      "[28]\n",
      "[39]\n",
      "[40]\n",
      "[41]\n",
      "[42]\n",
      "[43]\n",
      "[44]\n",
      "[44]\n",
      "[45]\n",
      "[49]\n",
      "[59]\n",
      "[60]\n",
      "[61]\n",
      "[62]\n",
      "[63]\n",
      "[65]\n",
      "[66]\n",
      "[76]\n",
      "[77]\n",
      "[78]\n",
      "[79]\n",
      "[80]\n",
      "[81]\n",
      "[81]\n",
      "[82]\n",
      "[83]\n",
      "[86]\n",
      "[97]\n",
      "[98]\n",
      "[99]\n",
      "[100]\n",
      "[101]\n",
      "[102]\n",
      "[102]\n",
      "[103]\n",
      "[104]\n",
      "[107]\n",
      "[64]\n",
      "[64]\n",
      "[6]\n",
      "[6]\n",
      "[46]\n",
      "[130]\n",
      "[132]\n",
      "[128]\n",
      "[133]\n",
      "[129]\n"
     ]
    }
   ],
   "source": [
    "hydrogen_numbers_on_molecule_to_be_functionalized_list = []\n",
    "neighbors_hydrogen_numbers_on_molecule_to_be_functionalized_list = []\n",
    "for i in hydrogen_numbers_on_molecule_to_be_functionalized:\n",
    "    hydrogen_numbers_on_molecule_to_be_functionalized_list.append(i)\n",
    "    neighbors_hydrogen_numbers_on_molecule_to_be_functionalized_list.append(list(molecule_to_be_functionalized.bonds.neighbors(i)))\n",
    "    print(list(molecule_to_be_functionalized.bonds.neighbors(i)))"
   ]
  },
  {
   "cell_type": "code",
   "execution_count": 129,
   "metadata": {},
   "outputs": [
    {
     "name": "stdout",
     "output_type": "stream",
     "text": [
      "7: This is an oxygen atom connected to an hydrogen atom. Adding to the list...\n",
      "8: This is an oxygen atom connected to an hydrogen atom. Adding to the list...\n",
      "24: This is an oxygen atom connected to an hydrogen atom. Adding to the list...\n",
      "25: This is an oxygen atom connected to an hydrogen atom. Adding to the list...\n",
      "28: This is an oxygen atom connected to an hydrogen atom. Adding to the list...\n",
      "45: This is an oxygen atom connected to an hydrogen atom. Adding to the list...\n",
      "49: This is an oxygen atom connected to an hydrogen atom. Adding to the list...\n",
      "65: This is an oxygen atom connected to an hydrogen atom. Adding to the list...\n",
      "66: This is an oxygen atom connected to an hydrogen atom. Adding to the list...\n",
      "82: This is an oxygen atom connected to an hydrogen atom. Adding to the list...\n",
      "83: This is an oxygen atom connected to an hydrogen atom. Adding to the list...\n",
      "86: This is an oxygen atom connected to an hydrogen atom. Adding to the list...\n",
      "103: This is an oxygen atom connected to an hydrogen atom. Adding to the list...\n",
      "104: This is an oxygen atom connected to an hydrogen atom. Adding to the list...\n",
      "107: This is an oxygen atom connected to an hydrogen atom. Adding to the list...\n",
      "46: This is an oxygen atom connected to an hydrogen atom. Adding to the list...\n"
     ]
    }
   ],
   "source": [
    "oxygen_atoms_connected_to_hydrogen_atoms_list = []\n",
    "for i in neighbors_hydrogen_numbers_on_molecule_to_be_functionalized_list:\n",
    "    if molecule_to_be_functionalized.get_atomic_symbol(i[0]) == \"O\":\n",
    "        print(f\"{i[0]}: This is an oxygen atom connected to an hydrogen atom. Adding to the list...\")\n",
    "        oxygen_atoms_connected_to_hydrogen_atoms_list.append(i[0])"
   ]
  },
  {
   "cell_type": "code",
   "execution_count": 130,
   "metadata": {},
   "outputs": [
    {
     "name": "stdout",
     "output_type": "stream",
     "text": [
      "16: This is a hydrogen atom connected to an oxygen atom. Adding to the list...\n",
      "17: This is a hydrogen atom connected to an oxygen atom. Adding to the list...\n",
      "36: This is a hydrogen atom connected to an oxygen atom. Adding to the list...\n",
      "37: This is a hydrogen atom connected to an oxygen atom. Adding to the list...\n",
      "38: This is a hydrogen atom connected to an oxygen atom. Adding to the list...\n",
      "57: This is a hydrogen atom connected to an oxygen atom. Adding to the list...\n",
      "127: This is a hydrogen atom connected to an oxygen atom. Adding to the list...\n",
      "58: This is a hydrogen atom connected to an oxygen atom. Adding to the list...\n",
      "74: This is a hydrogen atom connected to an oxygen atom. Adding to the list...\n",
      "75: This is a hydrogen atom connected to an oxygen atom. Adding to the list...\n",
      "94: This is a hydrogen atom connected to an oxygen atom. Adding to the list...\n",
      "95: This is a hydrogen atom connected to an oxygen atom. Adding to the list...\n",
      "96: This is a hydrogen atom connected to an oxygen atom. Adding to the list...\n",
      "115: This is a hydrogen atom connected to an oxygen atom. Adding to the list...\n",
      "116: This is a hydrogen atom connected to an oxygen atom. Adding to the list...\n",
      "117: This is a hydrogen atom connected to an oxygen atom. Adding to the list...\n"
     ]
    }
   ],
   "source": [
    "hydrogen_atoms_connected_to_oxygen_atoms_list = []\n",
    "for i in neighbors_oxygen_numbers_on_molecule_to_be_functionalized_list:\n",
    "    if molecule_to_be_functionalized.get_atomic_symbol(i[1]) == \"H\":\n",
    "        print(f\"{i[1]}: This is a hydrogen atom connected to an oxygen atom. Adding to the list...\")\n",
    "        hydrogen_atoms_connected_to_oxygen_atoms_list.append(i[1])"
   ]
  },
  {
   "cell_type": "code",
   "execution_count": 131,
   "metadata": {},
   "outputs": [
    {
     "name": "stdout",
     "output_type": "stream",
     "text": [
      "[7, 8, 24, 25, 28, 45, 49, 65, 66, 82, 83, 86, 103, 104, 107, 46]\n",
      "[16, 17, 36, 37, 38, 57, 127, 58, 74, 75, 94, 95, 96, 115, 116, 117]\n"
     ]
    }
   ],
   "source": [
    "print(oxygen_atoms_connected_to_hydrogen_atoms_list)\n",
    "print(hydrogen_atoms_connected_to_oxygen_atoms_list)\n"
   ]
  },
  {
   "cell_type": "code",
   "execution_count": 88,
   "metadata": {},
   "outputs": [
    {
     "data": {
      "text/plain": [
       "[[8, 20],\n",
       " [9, 21],\n",
       " [12, 22],\n",
       " [29, 41],\n",
       " [30, 42],\n",
       " [33, 43],\n",
       " [50, 59],\n",
       " [51, 60],\n",
       " [67, 79],\n",
       " [68, 80],\n",
       " [71, 81],\n",
       " [88, 100],\n",
       " [89, 101],\n",
       " [92, 102],\n",
       " [109, 117],\n",
       " [110, 118],\n",
       " [125, 137],\n",
       " [126, 138],\n",
       " [129, 139]]"
      ]
     },
     "execution_count": 88,
     "metadata": {},
     "output_type": "execute_result"
    }
   ],
   "source": [
    "pairs_of_OH_atom_numbers_to_be_functionalized = []\n",
    "for i in range(len(oxygen_atoms_connected_to_hydrogen_atoms_list)):\n",
    "    pairs_of_OH_atom_numbers_to_be_functionalized.append([oxygen_atoms_connected_to_hydrogen_atoms_list[i], hydrogen_atoms_connected_to_oxygen_atoms_list[i]])\n",
    "\n",
    "pairs_of_OH_atom_numbers_to_be_functionalized"
   ]
  },
  {
   "cell_type": "code",
   "execution_count": null,
   "metadata": {},
   "outputs": [],
   "source": []
  }
 ],
 "metadata": {
  "interpreter": {
   "hash": "5c6cd2b7b7ff47b3cd8e3b0269a3759ca6c48a52817d246cb4b578507d02afe5"
  },
  "kernelspec": {
   "display_name": "Python 3.9.10 ('dmds')",
   "language": "python",
   "name": "python3"
  },
  "language_info": {
   "codemirror_mode": {
    "name": "ipython",
    "version": 3
   },
   "file_extension": ".py",
   "mimetype": "text/x-python",
   "name": "python",
   "nbconvert_exporter": "python",
   "pygments_lexer": "ipython3",
   "version": "3.8.12"
  },
  "orig_nbformat": 4
 },
 "nbformat": 4,
 "nbformat_minor": 2
}
