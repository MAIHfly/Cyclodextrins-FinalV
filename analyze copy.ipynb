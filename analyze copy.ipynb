{
 "cells": [
  {
   "cell_type": "code",
   "execution_count": 2,
   "metadata": {},
   "outputs": [],
   "source": [
    "import autode as ade\n",
    "import cctk"
   ]
  },
  {
   "cell_type": "code",
   "execution_count": 31,
   "metadata": {},
   "outputs": [
    {
     "name": "stderr",
     "output_type": "stream",
     "text": [
      "/tmp/ipykernel_3162/2322876764.py:1: DeprecationWarning: XYZFile attribute ``molecule`` will be removed in upcoming releases of cctk. Use ``ensemble`` attribute instead!\n",
      "  molecule_to_be_functionalized = cctk.XYZFile.read_file('aBiCyDNH_New.xyz').molecule\n"
     ]
    },
    {
     "data": {
      "text/plain": [
       "Molecule (185 atoms)"
      ]
     },
     "execution_count": 31,
     "metadata": {},
     "output_type": "execute_result"
    }
   ],
   "source": [
    "molecule_to_be_functionalized = cctk.XYZFile.read_file('aBiCyDNH_New.xyz').molecule\n",
    "molecule_to_be_functionalized.assign_connectivity()\n"
   ]
  },
  {
   "cell_type": "code",
   "execution_count": 32,
   "metadata": {},
   "outputs": [
    {
     "name": "stdout",
     "output_type": "stream",
     "text": [
      "[(1, 2), (1, 10), (1, 11), (1, 24), (2, 3), (2, 7), (2, 12), (3, 4), (3, 8), (3, 13), (4, 5), (4, 9), (4, 14), (5, 6), (5, 10), (5, 15), (6, 105), (6, 110), (6, 111), (7, 122), (8, 126), (9, 85), (16, 17), (16, 25), (16, 27), (16, 42), (17, 18), (17, 22), (17, 28), (18, 19), (18, 23), (18, 29), (19, 20), (19, 24), (19, 30), (20, 21), (20, 25), (20, 31), (21, 26), (21, 32), (21, 33), (22, 130), (22, 146), (23, 134), (25, 150), (26, 138), (34, 35), (34, 43), (34, 45), (34, 60), (35, 36), (35, 40), (35, 46), (36, 37), (36, 41), (36, 47), (37, 38), (37, 42), (37, 48), (38, 39), (38, 43), (38, 49), (39, 44), (39, 50), (39, 51), (40, 142), (40, 158), (41, 146), (44, 150), (52, 53), (52, 61), (52, 62), (52, 75), (53, 54), (53, 58), (53, 63), (54, 55), (54, 59), (54, 64), (55, 56), (55, 60), (55, 65), (56, 57), (56, 61), (56, 66), (57, 106), (57, 108), (57, 109), (58, 154), (58, 166), (59, 158), (67, 68), (67, 76), (67, 78), (67, 93), (68, 69), (68, 73), (68, 79), (69, 70), (69, 74), (69, 80), (70, 71), (70, 75), (70, 81), (71, 72), (71, 76), (71, 82), (72, 77), (72, 83), (72, 84), (73, 162), (73, 178), (74, 166), (77, 170), (85, 86), (85, 94), (85, 96), (86, 87), (86, 91), (86, 97), (87, 88), (87, 92), (87, 98), (88, 89), (88, 93), (88, 99), (89, 90), (89, 94), (89, 100), (90, 95), (90, 101), (90, 102), (91, 126), (91, 174), (92, 178), (95, 182), (103, 104), (103, 105), (103, 113), (104, 106), (104, 112), (105, 107), (106, 107), (107, 114), (112, 116), (112, 119), (113, 117), (113, 121), (114, 115), (116, 117), (116, 118), (117, 120), (122, 123), (122, 124), (122, 125), (126, 127), (126, 128), (126, 129), (130, 131), (130, 132), (130, 133), (134, 135), (134, 136), (134, 137), (138, 139), (138, 140), (138, 141), (142, 143), (142, 144), (142, 145), (146, 147), (146, 148), (146, 149), (150, 151), (150, 152), (150, 153), (154, 155), (154, 156), (154, 157), (158, 159), (158, 160), (158, 161), (162, 163), (162, 164), (162, 165), (166, 167), (166, 168), (166, 169), (170, 171), (170, 172), (170, 173), (174, 175), (174, 176), (174, 177), (178, 179), (178, 180), (178, 181), (182, 183), (182, 184), (182, 185)]\n"
     ]
    }
   ],
   "source": [
    "bonds_on_molecule_to_be_functionalized = print(molecule_to_be_functionalized.bonds.edges())"
   ]
  },
  {
   "cell_type": "code",
   "execution_count": 33,
   "metadata": {},
   "outputs": [
    {
     "name": "stdout",
     "output_type": "stream",
     "text": [
      "[1, 2, 3, 4, 5, 6, 16, 17, 18, 19, 20, 21, 34, 35, 36, 37, 38, 39, 52, 53, 54, 55, 56, 57, 67, 68, 69, 70, 71, 72, 85, 86, 87, 88, 89, 90, 103, 104, 107, 112, 113, 116, 117, 122, 126, 130, 134, 138, 142, 146, 150, 154, 158, 162, 166, 170, 174, 178, 182]\n",
      "[11, 12, 13, 14, 15, 27, 28, 29, 30, 31, 32, 33, 45, 46, 47, 48, 49, 50, 51, 62, 63, 64, 65, 66, 78, 79, 80, 81, 82, 83, 84, 96, 97, 98, 99, 100, 101, 102, 108, 109, 110, 111, 115, 118, 119, 120, 121, 123, 124, 125, 127, 128, 129, 131, 132, 133, 135, 136, 137, 139, 140, 141, 143, 144, 145, 147, 148, 149, 151, 152, 153, 155, 156, 157, 159, 160, 161, 163, 164, 165, 167, 168, 169, 171, 172, 173, 175, 176, 177, 179, 180, 181, 183, 184, 185]\n"
     ]
    }
   ],
   "source": [
    "# get all atom numbers for a given element\n",
    "carbon_numbers_on_molecule_to_be_functionalized = molecule_to_be_functionalized.get_atoms_by_symbol(\"C\")\n",
    "print(carbon_numbers_on_molecule_to_be_functionalized)\n",
    "hydrogen_numbers_on_molecule_to_be_functionalized = molecule_to_be_functionalized.get_atoms_by_symbol(\"H\")\n",
    "print(hydrogen_numbers_on_molecule_to_be_functionalized)"
   ]
  },
  {
   "cell_type": "code",
   "execution_count": 34,
   "metadata": {},
   "outputs": [
    {
     "name": "stdout",
     "output_type": "stream",
     "text": [
      "[1]\n",
      "[2]\n",
      "[3]\n",
      "[4]\n",
      "[5]\n",
      "[16]\n",
      "[17]\n",
      "[18]\n",
      "[19]\n",
      "[20]\n",
      "[21]\n",
      "[21]\n",
      "[34]\n",
      "[35]\n",
      "[36]\n",
      "[37]\n",
      "[38]\n",
      "[39]\n",
      "[39]\n",
      "[52]\n",
      "[53]\n",
      "[54]\n",
      "[55]\n",
      "[56]\n",
      "[67]\n",
      "[68]\n",
      "[69]\n",
      "[70]\n",
      "[71]\n",
      "[72]\n",
      "[72]\n",
      "[85]\n",
      "[86]\n",
      "[87]\n",
      "[88]\n",
      "[89]\n",
      "[90]\n",
      "[90]\n",
      "[57]\n",
      "[57]\n",
      "[6]\n",
      "[6]\n",
      "[114]\n",
      "[116]\n",
      "[112]\n",
      "[117]\n",
      "[113]\n",
      "[122]\n",
      "[122]\n",
      "[122]\n",
      "[126]\n",
      "[126]\n",
      "[126]\n",
      "[130]\n",
      "[130]\n",
      "[130]\n",
      "[134]\n",
      "[134]\n",
      "[134]\n",
      "[138]\n",
      "[138]\n",
      "[138]\n",
      "[142]\n",
      "[142]\n",
      "[142]\n",
      "[146]\n",
      "[146]\n",
      "[146]\n",
      "[150]\n",
      "[150]\n",
      "[150]\n",
      "[154]\n",
      "[154]\n",
      "[154]\n",
      "[158]\n",
      "[158]\n",
      "[158]\n",
      "[162]\n",
      "[162]\n",
      "[162]\n",
      "[166]\n",
      "[166]\n",
      "[166]\n",
      "[170]\n",
      "[170]\n",
      "[170]\n",
      "[174]\n",
      "[174]\n",
      "[174]\n",
      "[178]\n",
      "[178]\n",
      "[178]\n",
      "[182]\n",
      "[182]\n",
      "[182]\n"
     ]
    }
   ],
   "source": [
    "hydrogen_numbers_on_molecule_to_be_functionalized_list = []\n",
    "neighbors_hydrogen_numbers_on_molecule_to_be_functionalized_list = []\n",
    "for i in hydrogen_numbers_on_molecule_to_be_functionalized:\n",
    "    hydrogen_numbers_on_molecule_to_be_functionalized_list.append(i)\n",
    "    neighbors_hydrogen_numbers_on_molecule_to_be_functionalized_list.append(list(molecule_to_be_functionalized.bonds.neighbors(i)))\n",
    "    print(list(molecule_to_be_functionalized.bonds.neighbors(i)))"
   ]
  },
  {
   "cell_type": "code",
   "execution_count": 35,
   "metadata": {},
   "outputs": [
    {
     "name": "stdout",
     "output_type": "stream",
     "text": [
      "[2, 10, 11, 24]\n",
      "[1, 3, 7, 12]\n",
      "[2, 4, 8, 13]\n",
      "[3, 5, 9, 14]\n",
      "[4, 6, 10, 15]\n",
      "[5, 105, 110, 111]\n",
      "[17, 25, 27, 42]\n",
      "[16, 18, 22, 28]\n",
      "[17, 19, 23, 29]\n",
      "[18, 20, 24, 30]\n",
      "[19, 21, 25, 31]\n",
      "[20, 26, 32, 33]\n",
      "[35, 43, 45, 60]\n",
      "[34, 36, 40, 46]\n",
      "[35, 37, 41, 47]\n",
      "[36, 38, 42, 48]\n",
      "[37, 39, 43, 49]\n",
      "[38, 44, 50, 51]\n",
      "[53, 61, 62, 75]\n",
      "[52, 54, 58, 63]\n",
      "[53, 55, 59, 64]\n",
      "[54, 56, 60, 65]\n",
      "[55, 57, 61, 66]\n",
      "[56, 106, 108, 109]\n",
      "[68, 76, 78, 93]\n",
      "[67, 69, 73, 79]\n",
      "[68, 70, 74, 80]\n",
      "[69, 71, 75, 81]\n",
      "[70, 72, 76, 82]\n",
      "[71, 77, 83, 84]\n",
      "[9, 86, 94, 96]\n",
      "[85, 87, 91, 97]\n",
      "[86, 88, 92, 98]\n",
      "[87, 89, 93, 99]\n",
      "[88, 90, 94, 100]\n",
      "[89, 95, 101, 102]\n",
      "[104, 105, 113]\n",
      "[103, 106, 112]\n",
      "[105, 106, 114]\n",
      "[104, 116, 119]\n",
      "[103, 117, 121]\n",
      "[112, 117, 118]\n",
      "[113, 116, 120]\n",
      "[7, 123, 124, 125]\n",
      "[8, 91, 127, 128, 129]\n",
      "[22, 131, 132, 133]\n",
      "[23, 135, 136, 137]\n",
      "[26, 139, 140, 141]\n",
      "[40, 143, 144, 145]\n",
      "[22, 41, 147, 148, 149]\n",
      "[25, 44, 151, 152, 153]\n",
      "[58, 155, 156, 157]\n",
      "[40, 59, 159, 160, 161]\n",
      "[73, 163, 164, 165]\n",
      "[58, 74, 167, 168, 169]\n",
      "[77, 171, 172, 173]\n",
      "[91, 175, 176, 177]\n",
      "[73, 92, 179, 180, 181]\n",
      "[95, 183, 184, 185]\n"
     ]
    }
   ],
   "source": [
    "carbon_numbers_on_molecule_to_be_functionalized_list = []\n",
    "neighbors_carbon_numbers_on_molecule_to_be_functionalized_list = []\n",
    "for i in carbon_numbers_on_molecule_to_be_functionalized:\n",
    "    carbon_numbers_on_molecule_to_be_functionalized_list.append(i)\n",
    "    neighbors_carbon_numbers_on_molecule_to_be_functionalized_list.append(list(molecule_to_be_functionalized.bonds.neighbors(i)))\n",
    "    print(list(molecule_to_be_functionalized.bonds.neighbors(i)))"
   ]
  },
  {
   "cell_type": "code",
   "execution_count": 36,
   "metadata": {},
   "outputs": [
    {
     "name": "stdout",
     "output_type": "stream",
     "text": [
      "1: This is an Carbon atom connected to an hydrogen atom. Adding to the list...\n",
      "2: This is an Carbon atom connected to an hydrogen atom. Adding to the list...\n",
      "3: This is an Carbon atom connected to an hydrogen atom. Adding to the list...\n",
      "4: This is an Carbon atom connected to an hydrogen atom. Adding to the list...\n",
      "5: This is an Carbon atom connected to an hydrogen atom. Adding to the list...\n",
      "16: This is an Carbon atom connected to an hydrogen atom. Adding to the list...\n",
      "17: This is an Carbon atom connected to an hydrogen atom. Adding to the list...\n",
      "18: This is an Carbon atom connected to an hydrogen atom. Adding to the list...\n",
      "19: This is an Carbon atom connected to an hydrogen atom. Adding to the list...\n",
      "20: This is an Carbon atom connected to an hydrogen atom. Adding to the list...\n",
      "21: This is an Carbon atom connected to an hydrogen atom. Adding to the list...\n",
      "21: This is an Carbon atom connected to an hydrogen atom. Adding to the list...\n",
      "34: This is an Carbon atom connected to an hydrogen atom. Adding to the list...\n",
      "35: This is an Carbon atom connected to an hydrogen atom. Adding to the list...\n",
      "36: This is an Carbon atom connected to an hydrogen atom. Adding to the list...\n",
      "37: This is an Carbon atom connected to an hydrogen atom. Adding to the list...\n",
      "38: This is an Carbon atom connected to an hydrogen atom. Adding to the list...\n",
      "39: This is an Carbon atom connected to an hydrogen atom. Adding to the list...\n",
      "39: This is an Carbon atom connected to an hydrogen atom. Adding to the list...\n",
      "52: This is an Carbon atom connected to an hydrogen atom. Adding to the list...\n",
      "53: This is an Carbon atom connected to an hydrogen atom. Adding to the list...\n",
      "54: This is an Carbon atom connected to an hydrogen atom. Adding to the list...\n",
      "55: This is an Carbon atom connected to an hydrogen atom. Adding to the list...\n",
      "56: This is an Carbon atom connected to an hydrogen atom. Adding to the list...\n",
      "67: This is an Carbon atom connected to an hydrogen atom. Adding to the list...\n",
      "68: This is an Carbon atom connected to an hydrogen atom. Adding to the list...\n",
      "69: This is an Carbon atom connected to an hydrogen atom. Adding to the list...\n",
      "70: This is an Carbon atom connected to an hydrogen atom. Adding to the list...\n",
      "71: This is an Carbon atom connected to an hydrogen atom. Adding to the list...\n",
      "72: This is an Carbon atom connected to an hydrogen atom. Adding to the list...\n",
      "72: This is an Carbon atom connected to an hydrogen atom. Adding to the list...\n",
      "85: This is an Carbon atom connected to an hydrogen atom. Adding to the list...\n",
      "86: This is an Carbon atom connected to an hydrogen atom. Adding to the list...\n",
      "87: This is an Carbon atom connected to an hydrogen atom. Adding to the list...\n",
      "88: This is an Carbon atom connected to an hydrogen atom. Adding to the list...\n",
      "89: This is an Carbon atom connected to an hydrogen atom. Adding to the list...\n",
      "90: This is an Carbon atom connected to an hydrogen atom. Adding to the list...\n",
      "90: This is an Carbon atom connected to an hydrogen atom. Adding to the list...\n",
      "57: This is an Carbon atom connected to an hydrogen atom. Adding to the list...\n",
      "57: This is an Carbon atom connected to an hydrogen atom. Adding to the list...\n",
      "6: This is an Carbon atom connected to an hydrogen atom. Adding to the list...\n",
      "6: This is an Carbon atom connected to an hydrogen atom. Adding to the list...\n",
      "116: This is an Carbon atom connected to an hydrogen atom. Adding to the list...\n",
      "112: This is an Carbon atom connected to an hydrogen atom. Adding to the list...\n",
      "117: This is an Carbon atom connected to an hydrogen atom. Adding to the list...\n",
      "113: This is an Carbon atom connected to an hydrogen atom. Adding to the list...\n",
      "122: This is an Carbon atom connected to an hydrogen atom. Adding to the list...\n",
      "122: This is an Carbon atom connected to an hydrogen atom. Adding to the list...\n",
      "122: This is an Carbon atom connected to an hydrogen atom. Adding to the list...\n",
      "126: This is an Carbon atom connected to an hydrogen atom. Adding to the list...\n",
      "126: This is an Carbon atom connected to an hydrogen atom. Adding to the list...\n",
      "126: This is an Carbon atom connected to an hydrogen atom. Adding to the list...\n",
      "130: This is an Carbon atom connected to an hydrogen atom. Adding to the list...\n",
      "130: This is an Carbon atom connected to an hydrogen atom. Adding to the list...\n",
      "130: This is an Carbon atom connected to an hydrogen atom. Adding to the list...\n",
      "134: This is an Carbon atom connected to an hydrogen atom. Adding to the list...\n",
      "134: This is an Carbon atom connected to an hydrogen atom. Adding to the list...\n",
      "134: This is an Carbon atom connected to an hydrogen atom. Adding to the list...\n",
      "138: This is an Carbon atom connected to an hydrogen atom. Adding to the list...\n",
      "138: This is an Carbon atom connected to an hydrogen atom. Adding to the list...\n",
      "138: This is an Carbon atom connected to an hydrogen atom. Adding to the list...\n",
      "142: This is an Carbon atom connected to an hydrogen atom. Adding to the list...\n",
      "142: This is an Carbon atom connected to an hydrogen atom. Adding to the list...\n",
      "142: This is an Carbon atom connected to an hydrogen atom. Adding to the list...\n",
      "146: This is an Carbon atom connected to an hydrogen atom. Adding to the list...\n",
      "146: This is an Carbon atom connected to an hydrogen atom. Adding to the list...\n",
      "146: This is an Carbon atom connected to an hydrogen atom. Adding to the list...\n",
      "150: This is an Carbon atom connected to an hydrogen atom. Adding to the list...\n",
      "150: This is an Carbon atom connected to an hydrogen atom. Adding to the list...\n",
      "150: This is an Carbon atom connected to an hydrogen atom. Adding to the list...\n",
      "154: This is an Carbon atom connected to an hydrogen atom. Adding to the list...\n",
      "154: This is an Carbon atom connected to an hydrogen atom. Adding to the list...\n",
      "154: This is an Carbon atom connected to an hydrogen atom. Adding to the list...\n",
      "158: This is an Carbon atom connected to an hydrogen atom. Adding to the list...\n",
      "158: This is an Carbon atom connected to an hydrogen atom. Adding to the list...\n",
      "158: This is an Carbon atom connected to an hydrogen atom. Adding to the list...\n",
      "162: This is an Carbon atom connected to an hydrogen atom. Adding to the list...\n",
      "162: This is an Carbon atom connected to an hydrogen atom. Adding to the list...\n",
      "162: This is an Carbon atom connected to an hydrogen atom. Adding to the list...\n",
      "166: This is an Carbon atom connected to an hydrogen atom. Adding to the list...\n",
      "166: This is an Carbon atom connected to an hydrogen atom. Adding to the list...\n",
      "166: This is an Carbon atom connected to an hydrogen atom. Adding to the list...\n",
      "170: This is an Carbon atom connected to an hydrogen atom. Adding to the list...\n",
      "170: This is an Carbon atom connected to an hydrogen atom. Adding to the list...\n",
      "170: This is an Carbon atom connected to an hydrogen atom. Adding to the list...\n",
      "174: This is an Carbon atom connected to an hydrogen atom. Adding to the list...\n",
      "174: This is an Carbon atom connected to an hydrogen atom. Adding to the list...\n",
      "174: This is an Carbon atom connected to an hydrogen atom. Adding to the list...\n",
      "178: This is an Carbon atom connected to an hydrogen atom. Adding to the list...\n",
      "178: This is an Carbon atom connected to an hydrogen atom. Adding to the list...\n",
      "178: This is an Carbon atom connected to an hydrogen atom. Adding to the list...\n",
      "182: This is an Carbon atom connected to an hydrogen atom. Adding to the list...\n",
      "182: This is an Carbon atom connected to an hydrogen atom. Adding to the list...\n",
      "182: This is an Carbon atom connected to an hydrogen atom. Adding to the list...\n"
     ]
    }
   ],
   "source": [
    "carbon_atoms_connected_to_hydrogen_atoms_list = []\n",
    "for i in neighbors_hydrogen_numbers_on_molecule_to_be_functionalized_list:\n",
    "    if molecule_to_be_functionalized.get_atomic_symbol(i[0]) == \"C\":\n",
    "        print(f\"{i[0]}: This is an Carbon atom connected to an hydrogen atom. Adding to the list...\")\n",
    "        carbon_atoms_connected_to_hydrogen_atoms_list.append(i[0])"
   ]
  },
  {
   "cell_type": "code",
   "execution_count": 37,
   "metadata": {},
   "outputs": [
    {
     "name": "stdout",
     "output_type": "stream",
     "text": [
      "[122, 126, 130, 134, 138, 142, 146, 150, 154, 158, 162, 166, 170, 174, 178, 182]\n"
     ]
    }
   ],
   "source": [
    "Methyl_Carbons = []\n",
    "for i in carbon_atoms_connected_to_hydrogen_atoms_list:\n",
    "    Count = carbon_atoms_connected_to_hydrogen_atoms_list.count(i)\n",
    "    if Count == 3:\n",
    "        if i not in Methyl_Carbons:\n",
    "            Methyl_Carbons.append(i)\n",
    "print(Methyl_Carbons)\n",
    "\n",
    "        \n"
   ]
  },
  {
   "cell_type": "code",
   "execution_count": 38,
   "metadata": {},
   "outputs": [
    {
     "name": "stdout",
     "output_type": "stream",
     "text": [
      "[7, 123, 124, 125]\n",
      "[8, 91, 127, 128, 129]\n",
      "[22, 131, 132, 133]\n",
      "[23, 135, 136, 137]\n",
      "[26, 139, 140, 141]\n",
      "[40, 143, 144, 145]\n",
      "[22, 41, 147, 148, 149]\n",
      "[25, 44, 151, 152, 153]\n",
      "[58, 155, 156, 157]\n",
      "[40, 59, 159, 160, 161]\n",
      "[73, 163, 164, 165]\n",
      "[58, 74, 167, 168, 169]\n",
      "[77, 171, 172, 173]\n",
      "[91, 175, 176, 177]\n",
      "[73, 92, 179, 180, 181]\n",
      "[95, 183, 184, 185]\n"
     ]
    }
   ],
   "source": [
    "neighbors_of_methyl_carbons_number_list = []\n",
    "for i in Methyl_Carbons:\n",
    "    neighbors_of_methyl_carbons_number_list.append(list(molecule_to_be_functionalized.bonds.neighbors(i)))\n",
    "    print(list(molecule_to_be_functionalized.bonds.neighbors(i)))\n"
   ]
  },
  {
   "cell_type": "code",
   "execution_count": 39,
   "metadata": {},
   "outputs": [
    {
     "name": "stdout",
     "output_type": "stream",
     "text": [
      "[7, 123, 124, 125, 8, 91, 127, 128, 129, 22, 131, 132, 133, 23, 135, 136, 137, 26, 139, 140, 141, 40, 143, 144, 145, 22, 41, 147, 148, 149, 25, 44, 151, 152, 153, 58, 155, 156, 157, 40, 59, 159, 160, 161, 73, 163, 164, 165, 58, 74, 167, 168, 169, 77, 171, 172, 173, 91, 175, 176, 177, 73, 92, 179, 180, 181, 95, 183, 184, 185, 122, 126, 130, 134, 138, 142, 146, 150, 154, 158, 162, 166, 170, 174, 178, 182]\n"
     ]
    }
   ],
   "source": [
    "OMethyl_Numbers = []\n",
    "for i in neighbors_of_methyl_carbons_number_list:\n",
    "    for j in i:\n",
    "        OMethyl_Numbers.append(j)\n",
    "for i in Methyl_Carbons:\n",
    "    OMethyl_Numbers.append(i)\n",
    "print(OMethyl_Numbers)\n"
   ]
  },
  {
   "cell_type": "code",
   "execution_count": 40,
   "metadata": {},
   "outputs": [
    {
     "name": "stdout",
     "output_type": "stream",
     "text": [
      "[1, 2, 3, 4, 5, 6, 9, 10, 11, 12, 13, 14, 15, 16, 17, 18, 19, 20, 21, 24, 27, 28, 29, 30, 31, 32, 33, 34, 35, 36, 37, 38, 39, 42, 43, 45, 46, 47, 48, 49, 50, 51, 52, 53, 54, 55, 56, 57, 60, 61, 62, 63, 64, 65, 66, 67, 68, 69, 70, 71, 72, 75, 76, 78, 79, 80, 81, 82, 83, 84, 85, 86, 87, 88, 89, 90, 93, 94, 96, 97, 98, 99, 100, 101, 102, 103, 104, 105, 106, 107, 108, 109, 110, 111, 112, 113, 114, 115, 116, 117, 118, 119, 120, 121]\n"
     ]
    }
   ],
   "source": [
    "Number_of_all_atoms = list(range(1,molecule_to_be_functionalized.num_atoms()+1))\n",
    "Not_OMethyl_Numbers = []\n",
    "for i in Number_of_all_atoms:\n",
    "    if i not in OMethyl_Numbers:\n",
    "        Not_OMethyl_Numbers.append(i)\n",
    "print(Not_OMethyl_Numbers)\n"
   ]
  },
  {
   "cell_type": "code",
   "execution_count": 41,
   "metadata": {},
   "outputs": [
    {
     "name": "stdout",
     "output_type": "stream",
     "text": [
      "[6, 122, 123, 124, 7, 90, 126, 127, 128, 21, 130, 131, 132, 22, 134, 135, 136, 25, 138, 139, 140, 39, 142, 143, 144, 21, 40, 146, 147, 148, 24, 43, 150, 151, 152, 57, 154, 155, 156, 39, 58, 158, 159, 160, 72, 162, 163, 164, 57, 73, 166, 167, 168, 76, 170, 171, 172, 90, 174, 175, 176, 72, 91, 178, 179, 180, 94, 182, 183, 184, 121, 125, 129, 133, 137, 141, 145, 149, 153, 157, 161, 165, 169, 173, 177, 181]\n",
      "New Line\n",
      "[0, 1, 2, 3, 4, 5, 8, 9, 10, 11, 12, 13, 14, 15, 16, 17, 18, 19, 20, 23, 26, 27, 28, 29, 30, 31, 32, 33, 34, 35, 36, 37, 38, 41, 42, 44, 45, 46, 47, 48, 49, 50, 51, 52, 53, 54, 55, 56, 59, 60, 61, 62, 63, 64, 65, 66, 67, 68, 69, 70, 71, 74, 75, 77, 78, 79, 80, 81, 82, 83, 84, 85, 86, 87, 88, 89, 92, 93, 95, 96, 97, 98, 99, 100, 101, 102, 103, 104, 105, 106, 107, 108, 109, 110, 111, 112, 113, 114, 115, 116, 117, 118, 119, 120]\n"
     ]
    }
   ],
   "source": [
    "OMethyl_Numbers[:] = [i - 1 for i in OMethyl_Numbers]\n",
    "Not_OMethyl_Numbers[:] = [i - 1 for i in Not_OMethyl_Numbers]\n",
    "print(OMethyl_Numbers)\n",
    "print('New Line')\n",
    "print(Not_OMethyl_Numbers)\n"
   ]
  },
  {
   "cell_type": "code",
   "execution_count": 7,
   "metadata": {},
   "outputs": [
    {
     "name": "stdout",
     "output_type": "stream",
     "text": [
      "[3, 20]\n",
      "[4, 21]\n",
      "[5, 114]\n",
      "[2, 6]\n",
      "[7, 22]\n",
      "[24, 39]\n",
      "[2, 26]\n",
      "[23, 27]\n",
      "[28, 40]\n",
      "[42, 56]\n",
      "[43, 57]\n",
      "[23, 44]\n",
      "[41, 45]\n",
      "[59, 76]\n",
      "[60, 77]\n",
      "[41, 61]\n",
      "[58, 62]\n",
      "[63, 78]\n",
      "[80, 97]\n",
      "[81, 98]\n",
      "[58, 82]\n",
      "[79, 83]\n",
      "[84, 99]\n",
      "[101, 112]\n",
      "[102, 113]\n",
      "[79, 103]\n",
      "[100, 104]\n",
      "[115, 132]\n",
      "[116, 133]\n",
      "[100, 117]\n",
      "[114, 118]\n",
      "[119, 134]\n",
      "[25, 150]\n"
     ]
    }
   ],
   "source": [
    "oxygen_numbers_on_molecule_to_be_functionalized_list = []\n",
    "neighbors_oxygen_numbers_on_molecule_to_be_functionalized_list = []\n",
    "for i in oxygen_numbers_on_molecule_to_be_functionalized:\n",
    "    oxygen_numbers_on_molecule_to_be_functionalized_list.append(i)\n",
    "    neighbors_oxygen_numbers_on_molecule_to_be_functionalized_list.append(list(molecule_to_be_functionalized.bonds.neighbors(i)))\n",
    "    print(list(molecule_to_be_functionalized.bonds.neighbors(i)))\n"
   ]
  },
  {
   "cell_type": "code",
   "execution_count": 9,
   "metadata": {},
   "outputs": [
    {
     "name": "stdout",
     "output_type": "stream",
     "text": [
      "[103]\n",
      "[2]\n",
      "[3]\n",
      "[4]\n",
      "[5]\n",
      "[6]\n",
      "[7]\n",
      "[7]\n",
      "[8]\n",
      "[9]\n",
      "[12]\n",
      "[23]\n",
      "[24]\n",
      "[26]\n",
      "[27]\n",
      "[28]\n",
      "[28]\n",
      "[29]\n",
      "[32]\n",
      "[41]\n",
      "[42]\n",
      "[43]\n",
      "[44]\n",
      "[45]\n",
      "[47]\n",
      "[48]\n",
      "[58]\n",
      "[59]\n",
      "[60]\n",
      "[61]\n",
      "[62]\n",
      "[63]\n",
      "[63]\n",
      "[64]\n",
      "[65]\n",
      "[68]\n",
      "[79]\n",
      "[80]\n",
      "[81]\n",
      "[82]\n",
      "[83]\n",
      "[84]\n",
      "[84]\n",
      "[85]\n",
      "[86]\n",
      "[89]\n",
      "[100]\n",
      "[101]\n",
      "[102]\n",
      "[105]\n",
      "[106]\n",
      "[114]\n",
      "[115]\n",
      "[116]\n",
      "[117]\n",
      "[118]\n",
      "[119]\n",
      "[119]\n",
      "[120]\n",
      "[121]\n",
      "[124]\n",
      "[46]\n",
      "[46]\n",
      "[104]\n",
      "[144]\n",
      "[144]\n",
      "[25]\n",
      "[148]\n",
      "[151]\n",
      "[153]\n",
      "[143]\n",
      "[154]\n",
      "[142]\n"
     ]
    }
   ],
   "source": [
    "hydrogen_numbers_on_molecule_to_be_functionalized_list = []\n",
    "neighbors_hydrogen_numbers_on_molecule_to_be_functionalized_list = []\n",
    "for i in hydrogen_numbers_on_molecule_to_be_functionalized:\n",
    "    hydrogen_numbers_on_molecule_to_be_functionalized_list.append(i)\n",
    "    neighbors_hydrogen_numbers_on_molecule_to_be_functionalized_list.append(list(molecule_to_be_functionalized.bonds.neighbors(i)))\n",
    "    print(list(molecule_to_be_functionalized.bonds.neighbors(i)))"
   ]
  },
  {
   "cell_type": "code",
   "execution_count": 10,
   "metadata": {},
   "outputs": [
    {
     "name": "stdout",
     "output_type": "stream",
     "text": [
      "8: This is an oxygen atom connected to an hydrogen atom. Adding to the list...\n",
      "9: This is an oxygen atom connected to an hydrogen atom. Adding to the list...\n",
      "12: This is an oxygen atom connected to an hydrogen atom. Adding to the list...\n",
      "29: This is an oxygen atom connected to an hydrogen atom. Adding to the list...\n",
      "32: This is an oxygen atom connected to an hydrogen atom. Adding to the list...\n",
      "47: This is an oxygen atom connected to an hydrogen atom. Adding to the list...\n",
      "48: This is an oxygen atom connected to an hydrogen atom. Adding to the list...\n",
      "64: This is an oxygen atom connected to an hydrogen atom. Adding to the list...\n",
      "65: This is an oxygen atom connected to an hydrogen atom. Adding to the list...\n",
      "68: This is an oxygen atom connected to an hydrogen atom. Adding to the list...\n",
      "85: This is an oxygen atom connected to an hydrogen atom. Adding to the list...\n",
      "86: This is an oxygen atom connected to an hydrogen atom. Adding to the list...\n",
      "89: This is an oxygen atom connected to an hydrogen atom. Adding to the list...\n",
      "105: This is an oxygen atom connected to an hydrogen atom. Adding to the list...\n",
      "106: This is an oxygen atom connected to an hydrogen atom. Adding to the list...\n",
      "120: This is an oxygen atom connected to an hydrogen atom. Adding to the list...\n",
      "121: This is an oxygen atom connected to an hydrogen atom. Adding to the list...\n",
      "124: This is an oxygen atom connected to an hydrogen atom. Adding to the list...\n",
      "148: This is an oxygen atom connected to an hydrogen atom. Adding to the list...\n"
     ]
    }
   ],
   "source": [
    "oxygen_atoms_connected_to_hydrogen_atoms_list = []\n",
    "for i in neighbors_hydrogen_numbers_on_molecule_to_be_functionalized_list:\n",
    "    if molecule_to_be_functionalized.get_atomic_symbol(i[0]) == \"O\":\n",
    "        print(f\"{i[0]}: This is an oxygen atom connected to an hydrogen atom. Adding to the list...\")\n",
    "        oxygen_atoms_connected_to_hydrogen_atoms_list.append(i[0])"
   ]
  },
  {
   "cell_type": "code",
   "execution_count": 11,
   "metadata": {},
   "outputs": [
    {
     "name": "stdout",
     "output_type": "stream",
     "text": [
      "20: This is a hydrogen atom connected to an oxygen atom. Adding to the list...\n",
      "21: This is a hydrogen atom connected to an oxygen atom. Adding to the list...\n",
      "22: This is a hydrogen atom connected to an oxygen atom. Adding to the list...\n",
      "39: This is a hydrogen atom connected to an oxygen atom. Adding to the list...\n",
      "40: This is a hydrogen atom connected to an oxygen atom. Adding to the list...\n",
      "56: This is a hydrogen atom connected to an oxygen atom. Adding to the list...\n",
      "57: This is a hydrogen atom connected to an oxygen atom. Adding to the list...\n",
      "76: This is a hydrogen atom connected to an oxygen atom. Adding to the list...\n",
      "77: This is a hydrogen atom connected to an oxygen atom. Adding to the list...\n",
      "78: This is a hydrogen atom connected to an oxygen atom. Adding to the list...\n",
      "97: This is a hydrogen atom connected to an oxygen atom. Adding to the list...\n",
      "98: This is a hydrogen atom connected to an oxygen atom. Adding to the list...\n",
      "99: This is a hydrogen atom connected to an oxygen atom. Adding to the list...\n",
      "112: This is a hydrogen atom connected to an oxygen atom. Adding to the list...\n",
      "113: This is a hydrogen atom connected to an oxygen atom. Adding to the list...\n",
      "132: This is a hydrogen atom connected to an oxygen atom. Adding to the list...\n",
      "133: This is a hydrogen atom connected to an oxygen atom. Adding to the list...\n",
      "134: This is a hydrogen atom connected to an oxygen atom. Adding to the list...\n",
      "150: This is a hydrogen atom connected to an oxygen atom. Adding to the list...\n"
     ]
    }
   ],
   "source": [
    "hydrogen_atoms_connected_to_oxygen_atoms_list = []\n",
    "for i in neighbors_oxygen_numbers_on_molecule_to_be_functionalized_list:\n",
    "    if molecule_to_be_functionalized.get_atomic_symbol(i[1]) == \"H\":\n",
    "        print(f\"{i[1]}: This is a hydrogen atom connected to an oxygen atom. Adding to the list...\")\n",
    "        hydrogen_atoms_connected_to_oxygen_atoms_list.append(i[1])"
   ]
  },
  {
   "cell_type": "code",
   "execution_count": 12,
   "metadata": {},
   "outputs": [
    {
     "name": "stdout",
     "output_type": "stream",
     "text": [
      "[8, 9, 12, 29, 32, 47, 48, 64, 65, 68, 85, 86, 89, 105, 106, 120, 121, 124, 148]\n",
      "[20, 21, 22, 39, 40, 56, 57, 76, 77, 78, 97, 98, 99, 112, 113, 132, 133, 134, 150]\n"
     ]
    }
   ],
   "source": [
    "print(oxygen_atoms_connected_to_hydrogen_atoms_list)\n",
    "print(hydrogen_atoms_connected_to_oxygen_atoms_list)\n"
   ]
  },
  {
   "cell_type": "code",
   "execution_count": 88,
   "metadata": {},
   "outputs": [
    {
     "data": {
      "text/plain": [
       "[[8, 20],\n",
       " [9, 21],\n",
       " [12, 22],\n",
       " [29, 41],\n",
       " [30, 42],\n",
       " [33, 43],\n",
       " [50, 59],\n",
       " [51, 60],\n",
       " [67, 79],\n",
       " [68, 80],\n",
       " [71, 81],\n",
       " [88, 100],\n",
       " [89, 101],\n",
       " [92, 102],\n",
       " [109, 117],\n",
       " [110, 118],\n",
       " [125, 137],\n",
       " [126, 138],\n",
       " [129, 139]]"
      ]
     },
     "execution_count": 88,
     "metadata": {},
     "output_type": "execute_result"
    }
   ],
   "source": [
    "pairs_of_OH_atom_numbers_to_be_functionalized = []\n",
    "for i in range(len(oxygen_atoms_connected_to_hydrogen_atoms_list)):\n",
    "    pairs_of_OH_atom_numbers_to_be_functionalized.append([oxygen_atoms_connected_to_hydrogen_atoms_list[i], hydrogen_atoms_connected_to_oxygen_atoms_list[i]])\n",
    "\n",
    "pairs_of_OH_atom_numbers_to_be_functionalized"
   ]
  },
  {
   "cell_type": "code",
   "execution_count": null,
   "metadata": {},
   "outputs": [],
   "source": []
  }
 ],
 "metadata": {
  "interpreter": {
   "hash": "5c6cd2b7b7ff47b3cd8e3b0269a3759ca6c48a52817d246cb4b578507d02afe5"
  },
  "kernelspec": {
   "display_name": "Python 3.9.10 ('dmds')",
   "language": "python",
   "name": "python3"
  },
  "language_info": {
   "codemirror_mode": {
    "name": "ipython",
    "version": 3
   },
   "file_extension": ".py",
   "mimetype": "text/x-python",
   "name": "python",
   "nbconvert_exporter": "python",
   "pygments_lexer": "ipython3",
   "version": "3.8.12"
  },
  "orig_nbformat": 4
 },
 "nbformat": 4,
 "nbformat_minor": 2
}
